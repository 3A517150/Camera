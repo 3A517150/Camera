{
 "cells": [
  {
   "cell_type": "code",
   "execution_count": 2,
   "metadata": {},
   "outputs": [
    {
     "ename": "SystemError",
     "evalue": "<class 'cv2.CascadeClassifier'> returned a result with an error set",
     "output_type": "error",
     "traceback": [
      "\u001b[0;31m---------------------------------------------------------------------------\u001b[0m",
      "\u001b[0;31merror\u001b[0m                                     Traceback (most recent call last)",
      "\u001b[0;31merror\u001b[0m: OpenCV(4.1.2) /Users/travis/build/skvark/opencv-python/opencv/modules/core/src/persistence.cpp:719: error: (-49:Unknown error code -49) Input file is invalid in function 'open'\n",
      "\nThe above exception was the direct cause of the following exception:\n",
      "\u001b[0;31mSystemError\u001b[0m                               Traceback (most recent call last)",
      "\u001b[0;32m<ipython-input-2-786853463f26>\u001b[0m in \u001b[0;36m<module>\u001b[0;34m\u001b[0m\n\u001b[1;32m      3\u001b[0m \u001b[0;34m\u001b[0m\u001b[0m\n\u001b[1;32m      4\u001b[0m \u001b[0mpictPath\u001b[0m \u001b[0;34m=\u001b[0m \u001b[0;34m(\u001b[0m\u001b[0;34mr'/Users/yeshiouwei/Desktop/Camera/face/pic00001.jpg'\u001b[0m\u001b[0;34m)\u001b[0m\u001b[0;34m\u001b[0m\u001b[0;34m\u001b[0m\u001b[0m\n\u001b[0;32m----> 5\u001b[0;31m \u001b[0mface_cascade\u001b[0m \u001b[0;34m=\u001b[0m \u001b[0mcv2\u001b[0m\u001b[0;34m.\u001b[0m\u001b[0mCascadeClassifier\u001b[0m\u001b[0;34m(\u001b[0m\u001b[0mpictPath\u001b[0m\u001b[0;34m)\u001b[0m\u001b[0;34m\u001b[0m\u001b[0;34m\u001b[0m\u001b[0m\n\u001b[0m\u001b[1;32m      6\u001b[0m \u001b[0mcv2\u001b[0m\u001b[0;34m.\u001b[0m\u001b[0mnamedWindow\u001b[0m\u001b[0;34m(\u001b[0m\u001b[0;34m\"Photo\"\u001b[0m\u001b[0;34m)\u001b[0m\u001b[0;34m\u001b[0m\u001b[0;34m\u001b[0m\u001b[0m\n\u001b[1;32m      7\u001b[0m \u001b[0mcap\u001b[0m \u001b[0;34m=\u001b[0m \u001b[0mcv2\u001b[0m\u001b[0;34m.\u001b[0m\u001b[0mVideoCapture\u001b[0m\u001b[0;34m(\u001b[0m\u001b[0;36m0\u001b[0m\u001b[0;34m)\u001b[0m\u001b[0;34m\u001b[0m\u001b[0;34m\u001b[0m\u001b[0m\n",
      "\u001b[0;31mSystemError\u001b[0m: <class 'cv2.CascadeClassifier'> returned a result with an error set"
     ]
    }
   ],
   "source": [
    "import cv2\n",
    "from PIL import Image\n",
    "\n",
    "pictPath = (r'/Users/yeshiouwei/Desktop/Camera/haar/haarcascade_frontalface_default.xml')\n",
    "face_cascade = cv2.CascadeClassifier(pictPath)\n",
    "cv2.namedWindow(\"Photo\")\n",
    "cap = cv2.VideoCapture(0)\n",
    "while(cap.isOpened()):\n",
    "    ret,img =cap.read()\n",
    "    cv2.imshow(\"Photo\",img)\n",
    "    if ret == True:\n",
    "        key = cv2.waitKey(200)\n",
    "        if key == ord(\"a\") or key == ord(\"A\"):\n",
    "            cv2.imwrite(\"photo.jpg\",img)\n",
    "            break\n",
    "cap.release()\n",
    "\n",
    "faces = face_cascade.detectMultiScale(img, scaleFactor=1.1,\n",
    "                                    minNeighbors = 3,minSize = (20,20))\n",
    "cv2.rectangle(img,(img.shape[1]-120, img.shape[0]-20),\n",
    "              (img.shape[1],img.shape[0]),(0,255,255),-1)\n",
    "cv2.putText(img,\"Find\" + str(len(faces))+\"face\",\n",
    "        (img.shape[1]-110,img.shape[0]-5),\n",
    "        cv2.FONT_HERSHEY_COMPLEX, 0.5,(255,0,0),1)\n",
    "    \n",
    "for (x,y,w,h)in faces:\n",
    "    cv2.rectangle(img,(x,y),(x+w,y+h),(255,0,0),2)\n",
    "    myimg = Image.open(\"photo.jpg\")\n",
    "    imgCrop = myimg.crop((x,y,x+w,y+h))\n",
    "    imgResize = imgCrop.resize((150,150),Image.ANTIALIAS)\n",
    "    imgResize.save(\"faceout.jpg\")\n",
    "\n",
    "cv2.namedWindow(\"FaceRecognition\", cv2.WINDOW_NORMAL)\n",
    "cv2.imshow(\"FaceRecognition\",img)"
   ]
  },
  {
   "cell_type": "code",
   "execution_count": null,
   "metadata": {},
   "outputs": [],
   "source": []
  },
  {
   "cell_type": "code",
   "execution_count": null,
   "metadata": {},
   "outputs": [],
   "source": []
  }
 ],
 "metadata": {
  "kernelspec": {
   "display_name": "Python 3",
   "language": "python",
   "name": "python3"
  },
  "language_info": {
   "codemirror_mode": {
    "name": "ipython",
    "version": 3
   },
   "file_extension": ".py",
   "mimetype": "text/x-python",
   "name": "python",
   "nbconvert_exporter": "python",
   "pygments_lexer": "ipython3",
   "version": "3.8.0"
  }
 },
 "nbformat": 4,
 "nbformat_minor": 2
}
