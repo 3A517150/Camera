{
 "cells": [
  {
   "cell_type": "code",
   "execution_count": 82,
   "metadata": {},
   "outputs": [],
   "source": [
    "import cv2\n",
    "import numpy\n",
    "\n",
    "def Img_face(path,number):\n",
    "    if (number > 0):\n",
    "        face_cascade = cv2.CascadeClassifier(r'/Users/yeshiouwei/Desktop/Camera/Resources/haar/haarcascade_frontalface_default.xml')#載入正臉分類器\n",
    "        for i in range(0,number):\n",
    "            Size = (400 ,100)\n",
    "            Img_gray = cv2.imread(path+'/face'+str(i)+'.jpg',cv2.IMREAD_GRAYSCALE)      #讀取照片灰階化\n",
    "            eq_Img_gray = cv2.equalizeHist(Img_gray)                                      #將照片直方圖等化（提高細節亮度）\n",
    "            face = face_cascade.detectMultiScale(eq_Img_gray,scaleFactor=1.1,minNeighbors=5,minSize=(400, 100))\n",
    "            for (x, y, w, h) in face:\n",
    "                cv2.rectangle(Img_gray, (x, y), (x + w, y + h), (0, 255, 0), 2)\n",
    "                crop_img = eq_Img_gray[y:y+h, x:x+w]\n",
    "                cv2.imwrite(path+'/'+str(i)+'.jpg',crop_img)\n",
    "Path = ('/Users/yeshiouwei/Desktop/Camera/Face_recognition/user/photo/user1')\n",
    "Img_face(Path,22)"
   ]
  },
  {
   "cell_type": "code",
   "execution_count": null,
   "metadata": {},
   "outputs": [],
   "source": []
  },
  {
   "cell_type": "code",
   "execution_count": null,
   "metadata": {},
   "outputs": [],
   "source": []
  }
 ],
 "metadata": {
  "kernelspec": {
   "display_name": "Python 3",
   "language": "python",
   "name": "python3"
  },
  "language_info": {
   "codemirror_mode": {
    "name": "ipython",
    "version": 3
   },
   "file_extension": ".py",
   "mimetype": "text/x-python",
   "name": "python",
   "nbconvert_exporter": "python",
   "pygments_lexer": "ipython3",
   "version": "3.8.0"
  }
 },
 "nbformat": 4,
 "nbformat_minor": 2
}
