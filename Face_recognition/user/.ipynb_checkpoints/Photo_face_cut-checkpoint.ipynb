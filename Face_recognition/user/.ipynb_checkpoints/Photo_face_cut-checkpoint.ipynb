{
 "cells": [
  {
   "cell_type": "code",
   "execution_count": null,
   "metadata": {},
   "outputs": [],
   "source": [
    "import cv2\n",
    "import numpy\n",
    "#載入分類器\n",
    "face_cascade     = cv2.CascadeClassifier(r\"/Users/yeshiouwei/Desktop/Camera/haar/haarcascade_frontalface_default.xml\")#正臉\n",
    "fileface_cascade = cv2.CascadeClassifier(r\"/Users/yeshiouwei/Desktop/Camera/haar/haarcascade_profileface.xml\")#側臉\n",
    "eye_cascade      = cv2.CascadeClassifier(r\"/Users/yeshiouwei/Desktop/Camera/haar/haarcascade_eye.xml\")#眼睛\n",
    "fullbody_cascade = cv2.CascadeClassifier(r\"/Users/yeshiouwei/Desktop/Camera/haar/haarcascade_fullbody.xml\")#全身\n",
    "#讀取圖片\n",
    "img = cv2.imread(r\"/Users/yeshiouwei/Desktop/Camera/Face_recognition/user/photo/user1/97689.jpg\")\n",
    "\n",
    "#轉成灰階\n",
    "\"\"\"\n",
    "    轉動臉部，使兩眼保持水平getRotationMatrix2D(旋轉中心,角度,縮放比例)\n",
    "\"\"\"\n",
    "#Rotate = cv2.getRotationMatrix2D(center=(img.shape[1]/2,img.shape[0]/2),angle=45,scale=1)\n",
    "#Rotlimg = cv2.warpAffine(img,Rotate,(img.shape[0]*2,img.shape[1]*2))\n",
    "\"\"\"\n",
    "    灰階顏色轉換-cvtColor(圖片,圖像格式)\n",
    "    \n",
    "    輸入圖像格式\n",
    "    1.CV_BGR2GRAY   :桌面上的三通道BGR\n",
    "    2.CV_BGRA2GRAY  :行動裝置的四通道BGRA\n",
    "\"\"\"\n",
    "gray = cv2.cvtColor(img, cv2.COLOR_BGR2GRAY)\n",
    "\"\"\"\n",
    "    直方圖等化-提高對比跟亮度-equalizeHist(圖像)\n",
    "\"\"\"\n",
    "gray_equalizeHist = cv2.equalizeHist(gray)\n",
    "\n",
    "\n",
    "# 偵測臉部\n",
    "faces = face_cascade.detectMultiScale(gray_equalizeHist, scaleFactor=1.08, minNeighbors=5, minSize=(32, 32))\n",
    "\n",
    "for (x, y, w, h) in faces:# 繪製人臉方框\n",
    "    cv2.rectangle(img, (x, y), (x + w, y + h), (255, 0, 0), 2)\n",
    "    Gray = gray_equalizeHist[y:y+h, x:x+w]\n",
    "    Img  = img[y:y+h, x:x+w]\n",
    "    \n",
    "    Eyes = eye_cascade.detectMultiScale(Gray, 1.2, 3)     # 偵測眼睛\n",
    "    File = fileface_cascade.detectMultiScale(Gray, 1.2, 3)# 偵測側臉\n",
    "    Full = fullbody_cascade.detectMultiScale(Gray, 1.2, 3)# 偵測全身\n",
    "    for (fx, fy, fw, fh) in File: # 繪製側臉方框\n",
    "        cv2.rectangle(Img, (fx, fy), (fx + fw, fy + fh), (0, 0, 255), 2)\n",
    "    for (lx, ly, lw, lh) in Full: # 繪製全身方框\n",
    "        cv2.rectangle(Img, (lx, ly), (lx + lw, ly + lh), (255 , 255, 255), 2)\n",
    "    for (ex, ey, ew, eh) in Eyes: # 繪製眼睛方框\n",
    "        cv2.rectangle(Img, (ex, ey), (ex + ew, ey + eh), (0, 255, 0), 2)\n",
    "    \n",
    "# 顯示成果\n",
    "cv2.namedWindow('img', cv2.WINDOW_NORMAL)  #正常視窗大小\n",
    "cv2.imshow('img', img)                     #秀出圖片\n",
    "cv2.imwrite(r\"/Users/yeshiouwei/Desktop/Camera/train/train05_1.jpg\", img )           #保存圖片\n",
    "cv2.waitKey(0)                             #等待按下任一按鍵\n",
    "cv2.destroyAllWindows()                    #關閉視窗"
   ]
  },
  {
   "cell_type": "code",
   "execution_count": null,
   "metadata": {},
   "outputs": [],
   "source": []
  }
 ],
 "metadata": {
  "kernelspec": {
   "display_name": "Python 3",
   "language": "python",
   "name": "python3"
  },
  "language_info": {
   "codemirror_mode": {
    "name": "ipython",
    "version": 3
   },
   "file_extension": ".py",
   "mimetype": "text/x-python",
   "name": "python",
   "nbconvert_exporter": "python",
   "pygments_lexer": "ipython3",
   "version": "3.8.0"
  }
 },
 "nbformat": 4,
 "nbformat_minor": 2
}
