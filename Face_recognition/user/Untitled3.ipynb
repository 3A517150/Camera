{
 "cells": [
  {
   "cell_type": "code",
   "execution_count": null,
   "metadata": {},
   "outputs": [
    {
     "name": "stdout",
     "output_type": "stream",
     "text": [
      "[[[ 150 1466]]\n",
      "\n",
      " [[ 149 1467]]\n",
      "\n",
      " [[ 148 1467]]\n",
      "\n",
      " [[ 147 1468]]\n",
      "\n",
      " [[ 146 1468]]\n",
      "\n",
      " [[ 144 1470]]\n",
      "\n",
      " [[ 144 1471]]\n",
      "\n",
      " [[ 143 1472]]\n",
      "\n",
      " [[ 143 1473]]\n",
      "\n",
      " [[ 142 1474]]\n",
      "\n",
      " [[ 142 1476]]\n",
      "\n",
      " [[ 142 1475]]\n",
      "\n",
      " [[ 143 1474]]\n",
      "\n",
      " [[ 143 1473]]\n",
      "\n",
      " [[ 144 1472]]\n",
      "\n",
      " [[ 144 1471]]\n",
      "\n",
      " [[ 147 1468]]\n",
      "\n",
      " [[ 148 1468]]\n",
      "\n",
      " [[ 150 1466]]\n",
      "\n",
      " [[ 153 1466]]\n",
      "\n",
      " [[ 155 1468]]\n",
      "\n",
      " [[ 155 1470]]\n",
      "\n",
      " [[ 151 1474]]\n",
      "\n",
      " [[ 150 1474]]\n",
      "\n",
      " [[ 149 1475]]\n",
      "\n",
      " [[ 150 1476]]\n",
      "\n",
      " [[ 150 1475]]\n",
      "\n",
      " [[ 151 1474]]\n",
      "\n",
      " [[ 152 1474]]\n",
      "\n",
      " [[ 154 1472]]\n",
      "\n",
      " [[ 154 1471]]\n",
      "\n",
      " [[ 155 1470]]\n",
      "\n",
      " [[ 155 1467]]\n",
      "\n",
      " [[ 154 1466]]]\n"
     ]
    }
   ],
   "source": [
    "import cv2\n",
    "img=cv2.imread(r'/Users/yeshiouwei/Desktop/Camera/Face_recognition/user/photo/user1/face1.jpg')\n",
    "gray = cv2.cvtColor(img,cv2.COLOR_BGR2GRAY)\n",
    "gray=cv2.GaussianBlur(gray, (3, 3), 0)\n",
    "gray=cv2.Canny(gray,100,300)\n",
    "ret, binary = cv2.threshold(gray,127,255,cv2.THRESH_BINARY)\n",
    "contours,hierarchy= cv2.findContours(binary,cv2.RETR_TREE,cv2.CHAIN_APPROX_SIMPLE)\n",
    "cv2.drawContours(img,contours,-1,(0,0,255),3)\n",
    "print(contours[0])\n",
    "cv2.imshow(\"0\",binary)\n",
    "cv2.imshow(\"win10\",img)\n",
    "cv2.waitKey(0)"
   ]
  },
  {
   "cell_type": "code",
   "execution_count": null,
   "metadata": {},
   "outputs": [],
   "source": []
  }
 ],
 "metadata": {
  "kernelspec": {
   "display_name": "Python 3",
   "language": "python",
   "name": "python3"
  },
  "language_info": {
   "codemirror_mode": {
    "name": "ipython",
    "version": 3
   },
   "file_extension": ".py",
   "mimetype": "text/x-python",
   "name": "python",
   "nbconvert_exporter": "python",
   "pygments_lexer": "ipython3",
   "version": "3.8.0"
  }
 },
 "nbformat": 4,
 "nbformat_minor": 2
}
