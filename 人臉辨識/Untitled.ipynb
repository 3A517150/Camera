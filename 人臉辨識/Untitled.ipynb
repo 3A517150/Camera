{
 "cells": [
  {
   "cell_type": "code",
   "execution_count": 2,
   "metadata": {},
   "outputs": [],
   "source": [
    "import cv2\n",
    "\n",
    "pictPath = (r'/Users/yeshiouwei/Desktop/Camera/haar/haarcascade_frontalface_default.xml')\n",
    "face_cascade =cv2.CascadeClassifier(pictPath)\n",
    "img = cv2.imread(r'/Users/yeshiouwei/Desktop/Camera/人臉辨識/1.jpg')\n",
    "faces = face_cascade.detectMultiScale(img, scaleFactor = 1.1,\n",
    "                minNeighbors = 3,minSize =(20,20))\n",
    "\n",
    "cv2.rectangle(img, (img.shape[1]-140, img.shape[0]-20),\n",
    "             (img.shape[1],img.shape[0]),(0,255,255),-1)\n",
    "cv2.putText(img,\"Finding\" + str(len(faces))+ \"face\",\n",
    "           (img.shape[1]-135,img.shape[0]-5),\n",
    "           cv2.FONT_HERSHEY_COMPLEX, 0.5,(255,0,0),1)\n",
    "\n",
    "for (x,y,w,h) in faces:\n",
    "    cv2.rectangle(img,(x,y),(x+w,y+h),(255,0,0),2)\n",
    "    \n",
    "cv2.namedWindow(\"Face\", cv2.WINDOW_NORMAL)\n",
    "cv2.imshow(\"Face\",img)"
   ]
  },
  {
   "cell_type": "code",
   "execution_count": null,
   "metadata": {},
   "outputs": [],
   "source": []
  },
  {
   "cell_type": "code",
   "execution_count": null,
   "metadata": {},
   "outputs": [],
   "source": []
  }
 ],
 "metadata": {
  "kernelspec": {
   "display_name": "Python 3",
   "language": "python",
   "name": "python3"
  },
  "language_info": {
   "codemirror_mode": {
    "name": "ipython",
    "version": 3
   },
   "file_extension": ".py",
   "mimetype": "text/x-python",
   "name": "python",
   "nbconvert_exporter": "python",
   "pygments_lexer": "ipython3",
   "version": "3.8.0"
  }
 },
 "nbformat": 4,
 "nbformat_minor": 2
}
