{
 "cells": [
  {
   "cell_type": "code",
   "execution_count": null,
   "metadata": {},
   "outputs": [],
   "source": [
    "import cv2\n",
    "import numpy\n",
    "#載入分類器\n",
    "face_cascade = cv2.CascadeClassifier(r\"/Users/yeshiouwei/Desktop/Camera/haar/haarcascade_frontalface_default.xml\")\n",
    "eye_cascade = cv2.CascadeClassifier(r\"/Users/yeshiouwei/Desktop/Camera/haar/haarcascade_eye.xml\")\n",
    "#讀取圖片\n",
    "img = cv2.imread(r\"/Users/yeshiouwei/Desktop/Camera/face/pic00124.jpg\")\n",
    "\n",
    "#轉成灰階\n",
    "\"\"\"\n",
    "    轉動臉部，使兩眼保持水平getRotationMatrix2D(旋轉中心,角度,縮放比例)\n",
    "\"\"\"\n",
    "Rotate = cv2.getRotationMatrix2D(center=(img.shape[1]/2,img.shape[0]/2),angle=45,scale=1)\n",
    "Rotlimg = cv2.warpAffine(img,Rotate,(img.shape[0]*2,img.shape[1]*2))\n",
    "\"\"\"\n",
    "    灰階顏色轉換-cvtColor(圖片,圖像格式)\n",
    "    \n",
    "    輸入圖像格式\n",
    "    1.CV_BGR2GRAY   :桌面上的三通道BGR\n",
    "    2.CV_BGRA2GRAY  :行動裝置的四通道BGRA\n",
    "\"\"\"\n",
    "gray = cv2.cvtColor(Rotlimg, cv2.COLOR_BGR2GRAY)\n",
    "\"\"\"\n",
    "    直方圖等化-提高對比跟亮度-equalizeHist(圖像)\n",
    "\"\"\"\n",
    "gray_equalizeHist = cv2.equalizeHist(gray)\n",
    "\n",
    "\n",
    "# 偵測臉部\n",
    "faces = face_cascade.detectMultiScale(gray_equalizeHist, scaleFactor=1.08, minNeighbors=5, minSize=(32, 32))\n",
    "# 繪製人臉方框\n",
    "for (x, y, w, h) in faces:\n",
    "    cv2.rectangle(img, (x, y), (x + w, y + h), (255, 0, 0), 2)\n",
    "    Gray = gray_equalizeHist[y:y+h, x:x+w]\n",
    "    Img  = img[y:y+h, x:x+w]\n",
    "\n",
    "    # 偵測左眼\n",
    "    Eyes = eye_cascade.detectMultiScale(Gray, 1.2, 3)\n",
    "    # 繪製左眼方框\n",
    "    for (ex, ey, ew, eh) in Eyes:\n",
    "        cv2.rectangle(Img, (ex, ey), (ex + ew, ey + eh), (0, 255, 0), 2)\n",
    "    \n",
    "# 顯示成果\n",
    "cv2.namedWindow('img', cv2.WINDOW_NORMAL)  #正常視窗大小\n",
    "cv2.imshow('img', img)                     #秀出圖片\n",
    "cv2.imwrite(r\"/Users/yeshiouwei/Desktop/Camera/train/train05_1.jpg\", img )           #保存圖片\n",
    "cv2.waitKey(0)                             #等待按下任一按鍵\n",
    "cv2.destroyAllWindows()                    #關閉視窗"
   ]
  }
 ],
 "metadata": {
  "kernelspec": {
   "display_name": "Python 3",
   "language": "python",
   "name": "python3"
  },
  "language_info": {
   "codemirror_mode": {
    "name": "ipython",
    "version": 3
   },
   "file_extension": ".py",
   "mimetype": "text/x-python",
   "name": "python",
   "nbconvert_exporter": "python",
   "pygments_lexer": "ipython3",
   "version": "3.8.0"
  }
 },
 "nbformat": 4,
 "nbformat_minor": 2
}
