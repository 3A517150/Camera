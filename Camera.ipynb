{
 "cells": [
  {
   "cell_type": "code",
   "execution_count": null,
   "metadata": {},
   "outputs": [],
   "source": [
    "import cv2\n",
    "import numpy\n",
    "#載入分類器\n",
    "face_cascade = cv2.CascadeClassifier(r\"/Users/yeshiouwei/Downloads/opencv-master/data/haarcascades/haarcascade_frontalface_default.xml\")\n",
    "\n",
    "#讀取圖片\n",
    "img = cv2.imread(r\"/Users/yeshiouwei/Desktop/Camera/face/pic00001.jpg\")\n",
    "\n",
    "#轉成灰階\n",
    "\"\"\"\n",
    "    灰階顏色轉換-cvtColor()\n",
    "    \n",
    "    輸入圖像格式\n",
    "    1.CV_BGR2GRAY   :桌面上的三通道BGR\n",
    "    2.CV_BGRA2GRAY  :行動裝置的四通道BGRA\n",
    "\"\"\"\n",
    "gray = cv2.cvtColor(img, cv2.COLOR_BGR2GRAY)\n",
    "\"\"\"\n",
    "    直方圖等化-提高對比跟亮度\n",
    "\"\"\"\n",
    "gray_equalizeHist = cv2.equalizeHist(gray)\n",
    "\n",
    "#偵測臉部\n",
    "faces = face_cascade.detectMultiScale(gray_equalizeHist, scaleFactor=1.08, minNeighbors=5, minSize=(32, 32))\n",
    "\n",
    "# 繪製人臉部份的方框\n",
    "for (x, y, w, h) in faces:\n",
    "    cv2.rectangle(img, (x, y), (x + w, y + h), (0, 255, 0), 2)\n",
    "    \n",
    "# 顯示成果\n",
    "cv2.namedWindow('img', cv2.WINDOW_NORMAL)  #正常視窗大小\n",
    "cv2.imshow('img', img)                     #秀出圖片\n",
    "cv2.imwrite(r\"/Users/yeshiouwei/Desktop/Camera/train/train01_1.jpg\", img )           #保存圖片\n",
    "cv2.waitKey(0)                             #等待按下任一按鍵\n",
    "cv2.destroyAllWindows()                    #關閉視窗"
   ]
  }
 ],
 "metadata": {
  "kernelspec": {
   "display_name": "Python 3",
   "language": "python",
   "name": "python3"
  },
  "language_info": {
   "codemirror_mode": {
    "name": "ipython",
    "version": 3
   },
   "file_extension": ".py",
   "mimetype": "text/x-python",
   "name": "python",
   "nbconvert_exporter": "python",
   "pygments_lexer": "ipython3",
   "version": "3.8.0"
  }
 },
 "nbformat": 4,
 "nbformat_minor": 2
}
